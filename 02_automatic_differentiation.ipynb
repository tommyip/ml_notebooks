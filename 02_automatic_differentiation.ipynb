{
 "cells": [
  {
   "cell_type": "markdown",
   "id": "34d29b1b-5ef8-4356-af94-ec576a6becb5",
   "metadata": {},
   "source": [
    "# Automatic Differentiation"
   ]
  },
  {
   "cell_type": "code",
   "execution_count": 1,
   "id": "3a70fd8b-f654-47d1-b313-1c736aa9d3ec",
   "metadata": {},
   "outputs": [],
   "source": [
    "from math import ceil\n",
    "from time import perf_counter\n",
    "import functools\n",
    "\n",
    "import numpy as np\n",
    "import pandas as pd\n",
    "from tqdm.notebook import tqdm, trange\n",
    "from graphviz import Digraph\n",
    "from matplotlib import pyplot as plt\n",
    "import seaborn as sns\n",
    "\n",
    "sns.set_theme()"
   ]
  },
  {
   "cell_type": "markdown",
   "id": "34208471-bd83-48f8-8820-dd524e49691d",
   "metadata": {},
   "source": [
    "## Implement `Variable` (computational graph + backprop)\n",
    "\n",
    "A `Variable` is a node within a neural network. It has parents which together with other nodes forms a directed acylic graph (DAG). It also has a `grad` field to store its gradient calculated using the back propagation algorithm. We implement `Variable` by subclassing `np.ndarray` and intercepting numpy operators to inject our own logic."
   ]
  },
  {
   "cell_type": "code",
   "execution_count": 2,
   "id": "775248b6-5242-4915-9618-ac73b07d242f",
   "metadata": {},
   "outputs": [],
   "source": [
    "def to_np(tensors):\n",
    "    return tuple(x.view(np.ndarray) if isinstance(x, Variable) else x for x in tensors)\n",
    "\n",
    "def build_graph(op, args, arr):\n",
    "    if arr is NotImplemented:\n",
    "        return NotImplemented\n",
    "    if not isinstance(arr, np.ndarray):\n",
    "        arr = np.array(arr)\n",
    "    arr = arr.view(Variable)\n",
    "    if Variable.requires_grad:\n",
    "        arr.op = op\n",
    "        arr.parents = args\n",
    "    return arr\n",
    "\n",
    "class Variable(np.ndarray):\n",
    "    next_id = 0\n",
    "    debug = False\n",
    "    requires_grad = True\n",
    "    \n",
    "    def __array_finalize__(self, obj):\n",
    "        if self.debug: print(f'__array_finalize__ {self.shape} {obj.shape}')\n",
    "        if obj is None: return\n",
    "        self.op = getattr(obj, 'op', None)\n",
    "        self.parents = getattr(obj, 'parents', None)\n",
    "        self.name = getattr(obj, 'name', None)\n",
    "        self.grad = np.zeros(obj.shape)\n",
    "        Variable.next_id, self.id = Variable.next_id + 1, Variable.next_id\n",
    "\n",
    "    def __array_ufunc__(self, ufunc, method, *args, **kwargs):\n",
    "        np_args = to_np(args)\n",
    "        if 'out' in kwargs:\n",
    "            kwargs['out'] = to_np(kwargs['out'])\n",
    "        if self.debug: print(f'__array_ufunc__ {ufunc} {[x.shape for x in np_args]} {kwargs}')\n",
    "        arr = super().__array_ufunc__(ufunc, method, *np_args, **kwargs)\n",
    "        return build_graph(ufunc, args, arr)\n",
    "\n",
    "    def __array_function__(self, func, types, args, kwargs):\n",
    "        np_args = to_np(args)\n",
    "        if self.debug: print(f'__array_function__ {func} {[x.shape for x in np_args]}')\n",
    "        arr = func(*np_args, **kwargs)\n",
    "        return build_graph(func, args, arr)\n",
    "\n",
    "    def backward(self, grad=None):\n",
    "        \"\"\"Back propagation\"\"\"\n",
    "        if grad is None:\n",
    "            # Is root (ie loss node)\n",
    "            grad = np.ones(self.shape)\n",
    "        \n",
    "        if len(grad.shape) == len(self.grad.shape) + 1 and grad.shape[1:] == self.grad.shape:\n",
    "            # Average gradient in minibatch\n",
    "            grad = np.mean(grad, axis=0)\n",
    "        # Accumulate gradient\n",
    "        # (instead of simply setting it to deal with nodes with multiple children)\n",
    "        self.grad += grad\n",
    "\n",
    "        for i, parent in enumerate(self.parents or []):\n",
    "            if isinstance(parent, Variable):\n",
    "                backprop_grad = backprop[self.op](self.parents, i, grad)\n",
    "                parent.backward(backprop_grad)\n",
    "\n",
    "    def graph(self, g=None):\n",
    "        \"\"\"Graphviz support\"\"\"\n",
    "        if g is None:\n",
    "            g = Digraph()\n",
    "        g.node(str(self.id), label=self.label(), xlabel=self.op.__name__ if self.op else None)\n",
    "        for parent in self.parents or []:\n",
    "            if not isinstance(parent, Variable):\n",
    "                id, Variable.next_id = str(Variable.next_id), Variable.next_id + 1\n",
    "                g.node(id, label=str(parent))\n",
    "                g.edge(id, str(self.id))\n",
    "            else:\n",
    "                g.edge(str(parent.id), str(self.id))\n",
    "                parent.graph(g)\n",
    "        return g\n",
    "\n",
    "    def __hash__(self):\n",
    "        return self.id\n",
    "\n",
    "    def __eq__(self, other):\n",
    "        return self.id == other.id\n",
    "\n",
    "    def __repr__(self):\n",
    "        return f'{self.label()}({str(self)}, grad={self.grad})'\n",
    "\n",
    "    def label(self):\n",
    "        return self.name or f'v{self.id}'\n",
    "\n",
    "class no_grad:\n",
    "    def __init__(self):\n",
    "        self.prev = None\n",
    "    def __enter__(self):\n",
    "        self.prev = Variable.requires_grad\n",
    "        Variable.requires_grad = False\n",
    "    def __exit__(self, *args):\n",
    "        Variable.requires_grad = self.prev\n",
    "\n",
    "def var(x: np.ndarray, name: tuple[str, str]):\n",
    "    v = x.view(Variable)\n",
    "    v.name = '.'.join(name)\n",
    "    return v\n",
    "\n",
    "def custom_op(func):\n",
    "    \"\"\"Bypass numpy hooks so we can implement our own backprop logic\"\"\"\n",
    "    @functools.wraps(func)\n",
    "    def wrapper(*args, **kwargs):\n",
    "        if all(isinstance(arg, Variable) for arg in args):\n",
    "            np_args = to_np(args)\n",
    "            arr = func(*np_args, **kwargs)\n",
    "            return build_graph(wrapper, args, arr)\n",
    "        else:\n",
    "            return func(*args, **kwargs)\n",
    "    return wrapper"
   ]
  },
  {
   "cell_type": "code",
   "execution_count": 3,
   "id": "cd311c11-d284-43ff-8ee3-b5b6982ae46d",
   "metadata": {},
   "outputs": [],
   "source": [
    "def relu(x):\n",
    "    return np.maximum(x, 0)\n",
    "\n",
    "def softmax(x):\n",
    "    # Stable implementation\n",
    "    z = x - np.max(x, axis=-1)[:, np.newaxis]\n",
    "    numerator = np.exp(z)\n",
    "    return numerator / np.sum(numerator, axis=-1)[:, np.newaxis]\n",
    "\n",
    "@custom_op\n",
    "def log_softmax(x):\n",
    "    # Stable implementation\n",
    "    shiftx = x - np.max(x, axis=-1)[:, np.newaxis]\n",
    "    return shiftx - np.log(np.sum(np.exp(shiftx), axis=-1))[:, np.newaxis]\n",
    "\n",
    "def mse_loss(y_pred, y):\n",
    "    return np.mean(np.square(y - y_pred))\n",
    "\n",
    "@custom_op\n",
    "def nll_loss(y_pred, y):\n",
    "    \"\"\"y_pred is one-hot encoded (batch, logits), y is class labels (batch,)\"\"\"\n",
    "    return -np.mean(y_pred[range(y.shape[0]), y])"
   ]
  },
  {
   "cell_type": "markdown",
   "id": "581f42ab-b438-44ee-a538-5f982ac6c4e2",
   "metadata": {},
   "source": [
    "## Implement backprop for all supported operations\n",
    "\n",
    "Concrete implementations for equation [6.54](https://www.deeplearningbook.org/contents/mlp.html#pf31):\n",
    "\n",
    "$$ \\text{op.bprop}(\\text{inputs}, \\textsf{X}, \\textsf{G}) = \\sum_i (\\nabla_\\textsf{X}\\text{op.f}(\\text{inputs})_i) ~\\textsf{G}_i $$"
   ]
  },
  {
   "cell_type": "code",
   "execution_count": 4,
   "id": "9335cccf-af19-4a2c-ae8f-429a4ddb1a21",
   "metadata": {},
   "outputs": [],
   "source": [
    "backprop = {}\n",
    "def bprop(forward_fn):\n",
    "    def decorator(backward_fn):\n",
    "        @functools.wraps(backward_fn)\n",
    "        def wrapper(inputs, idx, G):\n",
    "            return backward_fn(to_np(inputs), idx, G)\n",
    "        backprop[forward_fn] = wrapper\n",
    "        return wrapper\n",
    "    return decorator\n",
    "\n",
    "@bprop(np.add)\n",
    "def bprop_add(inputs, idx, G):\n",
    "    return G\n",
    "\n",
    "@bprop(np.subtract)\n",
    "def bprop_subtract(inputs, idx, G):\n",
    "    A, B = inputs\n",
    "    return G if idx == 0 else -G\n",
    "\n",
    "@bprop(np.square)\n",
    "def bprop_square(inputs, idx, G):\n",
    "    return 2. * inputs[0] * G\n",
    "\n",
    "@bprop(np.mean)\n",
    "def bprop_mean(inputs, idx, G):\n",
    "    return G / inputs[0].shape[0]\n",
    "\n",
    "@bprop(np.matmul)\n",
    "def bprop_matmul(inputs, idx, G):\n",
    "    A, B = inputs\n",
    "    match idx:\n",
    "        case 0: return G @ np.moveaxis(B, -1, -2)\n",
    "        case 1: return A.T @ G\n",
    "\n",
    "@bprop(np.maximum)\n",
    "def bprop_maximum(inputs, idx, G):\n",
    "    A, B = inputs\n",
    "    mask = A > B if idx == 0 else B > A\n",
    "    return mask.astype(np.float64) * G\n",
    "\n",
    "@bprop(np.squeeze)\n",
    "def bprop_squeeze(inputs, idx, G):\n",
    "    return np.expand_dims(G, -1)\n",
    "\n",
    "@bprop(np.expand_dims)\n",
    "def bprop_expand_dims(inputs, idx, G):\n",
    "    return np.squeeze(G, -1)\n",
    "\n",
    "@bprop(log_softmax)\n",
    "def bprop_log_softmax(inputs, idx, G):\n",
    "    return G - softmax(inputs[0]) * G.sum(axis=1, keepdims=True)\n",
    "\n",
    "@bprop(nll_loss)\n",
    "def bprop_nll_loss(inputs, idx, G):\n",
    "    y_pred, y = inputs\n",
    "    if idx == 0:\n",
    "        G /= y_pred.shape[0]\n",
    "        return (softmax(y_pred) - np.eye(y_pred.shape[1])[y]) * G"
   ]
  },
  {
   "cell_type": "markdown",
   "id": "a59a8755-97ac-4928-a4fe-83ab78d131b0",
   "metadata": {},
   "source": [
    "## Implement basic neural network primitives"
   ]
  },
  {
   "cell_type": "code",
   "execution_count": 5,
   "id": "e839bc5d-9b99-4a82-958f-f23f64618479",
   "metadata": {},
   "outputs": [],
   "source": [
    "class Module:\n",
    "    def parameters(self):\n",
    "        out = []\n",
    "        for attr in self.__dict__.values():\n",
    "            if isinstance(attr, Variable):\n",
    "                out.append(attr)\n",
    "            elif isinstance(attr, Module):\n",
    "                out.extend(attr.parameters())\n",
    "        return out\n",
    "\n",
    "class Linear(Module):\n",
    "    def __init__(self, in_dim: int, out_dim: int, name: str = 'fc'):\n",
    "        self.W = var(np.random.randn(out_dim, in_dim), name=(name, 'W'))\n",
    "        self.b = var(np.random.randn(out_dim), name=(name, 'b'))\n",
    "\n",
    "    def __call__(self, x):\n",
    "        return np.squeeze(self.W @ np.expand_dims(x, axis=-1), axis=-1) + self.b\n",
    "\n",
    "class AdamW:\n",
    "    \"\"\"https://arxiv.org/pdf/1711.05101\"\"\"\n",
    "    def __init__(self,\n",
    "                 params,\n",
    "                 lr=0.001,\n",
    "                 betas=(0.9, 0.999),\n",
    "                 eps=1e-8,\n",
    "                 weight_decay=0.01):\n",
    "        self.params = params\n",
    "        self.lr = lr\n",
    "        self.b1, self.b2 = betas\n",
    "        self.eps = eps\n",
    "        self.weight_decay = weight_decay\n",
    "        self.m = [np.zeros(param.shape) for param in params]\n",
    "        self.v = [np.zeros(param.shape) for param in params]\n",
    "        self.t = 1\n",
    "\n",
    "    def step(self):\n",
    "        with no_grad():\n",
    "            for i, var in enumerate(self.params):\n",
    "                self.m[i] = self.b1 * self.m[i] + (1 - self.b1) * var.grad\n",
    "                self.v[i] = self.b2 * self.v[i] + (1 - self.b2) * np.square(var.grad)\n",
    "                m_hat = self.m[i] / (1 - self.b1 ** self.t)\n",
    "                v_hat = self.v[i] / (1 - self.b2 ** self.t)\n",
    "                var -= (self.lr * m_hat) / (np.sqrt(v_hat) + self.eps)\n",
    "                var *= 1 - self.lr * self.weight_decay\n",
    "        self.t += 1\n",
    "\n",
    "    def zero_grad(self):\n",
    "        for var in self.params:\n",
    "            var.grad[...] = 0.\n",
    "\n",
    "def train(\n",
    "    model,\n",
    "    X_train,\n",
    "    y_train,\n",
    "    loss_fn,\n",
    "    metrics_fn,\n",
    "    optim,\n",
    "    X_val=None,\n",
    "    y_val=None,\n",
    "    batch_size=64,\n",
    "    max_epochs=100,\n",
    "    log_epochs=1,\n",
    "    log_iters=1,\n",
    "    early_stopping_delta=1e-6,\n",
    "    early_stopping_patience=4,\n",
    "):\n",
    "    n_split = ceil(X_train.shape[0] / batch_size)\n",
    "    X_batches, y_batches = np.array_split(X_train, n_split), np.array_split(y_train, n_split)\n",
    "    x_batches = [var(x, name='x') for x in X_batches]\n",
    "    y_batches = [var(y, name='y') for y in y_batches]\n",
    "    losses = []\n",
    "    val_losses = []\n",
    "    min_loss = float('inf')\n",
    "    start = perf_counter()\n",
    "    for i in (epoch_pbar := trange(max_epochs, desc='Epoch')):\n",
    "        running_loss = 0.\n",
    "        running_acc = 0.\n",
    "        with tqdm(desc='Iter', total=len(x_batches), leave=False, disable=len(x_batches) == 1) as iter_pbar:\n",
    "            for j, (X_batch, y_batch) in enumerate(zip(x_batches, y_batches)):\n",
    "                optim.zero_grad()\n",
    "                y_pred = model(X_batch)\n",
    "                loss = loss_fn(y_pred, y_batch)\n",
    "                running_loss += loss.item()\n",
    "                acc = metrics_fn(y_pred, y_batch)\n",
    "                running_acc += acc.item()\n",
    "                if j % log_iters == 0:\n",
    "                    iter_pbar.set_postfix(loss=loss.item(), acc=acc.item())\n",
    "                loss.backward()\n",
    "                optim.step()\n",
    "                iter_pbar.update(1)\n",
    "        loss = running_loss / len(x_batches)\n",
    "        losses.append(loss)\n",
    "        min_loss = min(min_loss, loss)\n",
    "        acc = running_acc / len(x_batches)\n",
    "        val_loss = val_acc = None\n",
    "        if X_val is not None:\n",
    "            with no_grad():\n",
    "                y_pred = model(X_val)\n",
    "                val_loss = loss_fn(y_pred, y_val).item()\n",
    "                val_losses.append(val_loss)\n",
    "                val_acc = metrics_fn(y_pred, y_val).item()\n",
    "        if i % log_epochs == 0:\n",
    "            elapsed = perf_counter() - start\n",
    "            epoch_pbar.set_postfix(loss=loss, acc=acc, val_loss=val_loss, val_acc=val_acc, elapsed=elapsed)\n",
    "        if len(losses) >= early_stopping_patience:\n",
    "            if all(abs(x - min_loss) < early_stopping_delta for x in losses[-early_stopping_patience:]):\n",
    "                break\n",
    "    elapsed = perf_counter() - start\n",
    "    print(f'Total epochs = {i + 1} | elapsed = {elapsed:.2f}s | train loss = {loss} | train acc = {acc}')\n",
    "    return sns.lineplot(pd.DataFrame({\n",
    "        'train': losses,\n",
    "        'val': val_losses or None\n",
    "    })).set(xlabel='Epochs', ylabel='Loss')"
   ]
  },
  {
   "cell_type": "markdown",
   "id": "b8092a9e-c9e3-4317-8efb-07499cf15de2",
   "metadata": {},
   "source": [
    "## Demo 1: XOR"
   ]
  },
  {
   "cell_type": "code",
   "execution_count": 6,
   "id": "60e8338d-2dc0-4ca0-81c0-3d1876e4e973",
   "metadata": {},
   "outputs": [],
   "source": [
    "class Xor(Module):\n",
    "    def __init__(self, in_dim: int, hidden_dim: int, out_dim: int):\n",
    "        self.fc1 = Linear(in_dim, hidden_dim, name='fc1')\n",
    "        self.fc2 = Linear(hidden_dim, out_dim, name='fc2')\n",
    "\n",
    "    def __call__(self, x):\n",
    "        x = self.fc1(x)\n",
    "        x = relu(x)\n",
    "        x = self.fc2(x)\n",
    "        return x\n",
    "\n",
    "xor_X = np.array([[0., 0.], [1., 0.], [0., 1.], [1., 1.]])\n",
    "xor_y = np.array([[0.], [1.], [1.], [0.]])\n",
    "\n",
    "np.random.seed(0)\n",
    "\n",
    "xor_model = Xor(2, 2, 1)\n",
    "xor_optim = AdamW(xor_model.parameters(), lr=0.05)\n",
    "xor_acc = lambda y_pred, y: np.mean((y_pred.view(np.ndarray) >= 0.5) == y.view(np.ndarray))"
   ]
  },
  {
   "cell_type": "code",
   "execution_count": 7,
   "id": "e634d74e-df19-4d26-8012-3f7acb54b969",
   "metadata": {},
   "outputs": [
    {
     "data": {
      "image/svg+xml": [
       "<?xml version=\"1.0\" encoding=\"UTF-8\" standalone=\"no\"?>\n",
       "<!DOCTYPE svg PUBLIC \"-//W3C//DTD SVG 1.1//EN\"\n",
       " \"http://www.w3.org/Graphics/SVG/1.1/DTD/svg11.dtd\">\n",
       "<!-- Generated by graphviz version 12.1.0 (20240811.2233)\n",
       " -->\n",
       "<!-- Pages: 1 -->\n",
       "<svg width=\"219pt\" height=\"977pt\"\n",
       " viewBox=\"0.00 0.00 219.32 976.65\" xmlns=\"http://www.w3.org/2000/svg\" xmlns:xlink=\"http://www.w3.org/1999/xlink\">\n",
       "<g id=\"graph0\" class=\"graph\" transform=\"scale(1 1) rotate(0) translate(4 972.65)\">\n",
       "<polygon fill=\"white\" stroke=\"none\" points=\"-4,4 -4,-972.65 215.32,-972.65 215.32,4 -4,4\"/>\n",
       "<!-- 16 -->\n",
       "<g id=\"node1\" class=\"node\">\n",
       "<title>16</title>\n",
       "<ellipse fill=\"none\" stroke=\"black\" cx=\"106.46\" cy=\"-18\" rx=\"27\" ry=\"18\"/>\n",
       "<text text-anchor=\"middle\" x=\"106.46\" y=\"-12.95\" font-family=\"Times,serif\" font-size=\"14.00\">v16</text>\n",
       "<text text-anchor=\"middle\" x=\"64.46\" y=\"-39.2\" font-family=\"Times,serif\" font-size=\"14.00\">mean</text>\n",
       "</g>\n",
       "<!-- 15 -->\n",
       "<g id=\"node2\" class=\"node\">\n",
       "<title>15</title>\n",
       "<ellipse fill=\"none\" stroke=\"black\" cx=\"106.46\" cy=\"-90\" rx=\"27\" ry=\"18\"/>\n",
       "<text text-anchor=\"middle\" x=\"106.46\" y=\"-84.95\" font-family=\"Times,serif\" font-size=\"14.00\">v15</text>\n",
       "<text text-anchor=\"middle\" x=\"61.84\" y=\"-111.2\" font-family=\"Times,serif\" font-size=\"14.00\">square</text>\n",
       "</g>\n",
       "<!-- 15&#45;&gt;16 -->\n",
       "<g id=\"edge1\" class=\"edge\">\n",
       "<title>15&#45;&gt;16</title>\n",
       "<path fill=\"none\" stroke=\"black\" d=\"M106.46,-71.7C106.46,-64.41 106.46,-55.73 106.46,-47.54\"/>\n",
       "<polygon fill=\"black\" stroke=\"black\" points=\"109.96,-47.62 106.46,-37.62 102.96,-47.62 109.96,-47.62\"/>\n",
       "</g>\n",
       "<!-- 14 -->\n",
       "<g id=\"node3\" class=\"node\">\n",
       "<title>14</title>\n",
       "<ellipse fill=\"none\" stroke=\"black\" cx=\"106.46\" cy=\"-162\" rx=\"27\" ry=\"18\"/>\n",
       "<text text-anchor=\"middle\" x=\"106.46\" y=\"-156.95\" font-family=\"Times,serif\" font-size=\"14.00\">v14</text>\n",
       "<text text-anchor=\"middle\" x=\"58.09\" y=\"-183.2\" font-family=\"Times,serif\" font-size=\"14.00\">subtract</text>\n",
       "</g>\n",
       "<!-- 14&#45;&gt;15 -->\n",
       "<g id=\"edge2\" class=\"edge\">\n",
       "<title>14&#45;&gt;15</title>\n",
       "<path fill=\"none\" stroke=\"black\" d=\"M106.46,-143.7C106.46,-136.41 106.46,-127.73 106.46,-119.54\"/>\n",
       "<polygon fill=\"black\" stroke=\"black\" points=\"109.96,-119.62 106.46,-109.62 102.96,-119.62 109.96,-119.62\"/>\n",
       "</g>\n",
       "<!-- 17 -->\n",
       "<g id=\"node4\" class=\"node\">\n",
       "<title>17</title>\n",
       "<ellipse fill=\"none\" stroke=\"black\" cx=\"68.46\" cy=\"-268.33\" rx=\"30.94\" ry=\"52.33\"/>\n",
       "<text text-anchor=\"middle\" x=\"68.46\" y=\"-288.03\" font-family=\"Times,serif\" font-size=\"14.00\">[[0.]</text>\n",
       "<text text-anchor=\"middle\" x=\"68.46\" y=\"-271.53\" font-family=\"Times,serif\" font-size=\"14.00\"> [1.]</text>\n",
       "<text text-anchor=\"middle\" x=\"68.46\" y=\"-255.03\" font-family=\"Times,serif\" font-size=\"14.00\"> [1.]</text>\n",
       "<text text-anchor=\"middle\" x=\"68.46\" y=\"-238.53\" font-family=\"Times,serif\" font-size=\"14.00\"> [0.]]</text>\n",
       "</g>\n",
       "<!-- 17&#45;&gt;14 -->\n",
       "<g id=\"edge3\" class=\"edge\">\n",
       "<title>17&#45;&gt;14</title>\n",
       "<path fill=\"none\" stroke=\"black\" d=\"M84.58,-223.08C88.56,-212.15 92.72,-200.73 96.33,-190.83\"/>\n",
       "<polygon fill=\"black\" stroke=\"black\" points=\"99.61,-192.03 99.75,-181.44 93.04,-189.63 99.61,-192.03\"/>\n",
       "</g>\n",
       "<!-- 13 -->\n",
       "<g id=\"node5\" class=\"node\">\n",
       "<title>13</title>\n",
       "<ellipse fill=\"none\" stroke=\"black\" cx=\"144.46\" cy=\"-268.33\" rx=\"27\" ry=\"18\"/>\n",
       "<text text-anchor=\"middle\" x=\"144.46\" y=\"-263.28\" font-family=\"Times,serif\" font-size=\"14.00\">v13</text>\n",
       "<text text-anchor=\"middle\" x=\"127.21\" y=\"-289.53\" font-family=\"Times,serif\" font-size=\"14.00\">add</text>\n",
       "</g>\n",
       "<!-- 13&#45;&gt;14 -->\n",
       "<g id=\"edge4\" class=\"edge\">\n",
       "<title>13&#45;&gt;14</title>\n",
       "<path fill=\"none\" stroke=\"black\" d=\"M138.36,-250.56C132.46,-234.37 123.42,-209.54 116.46,-190.46\"/>\n",
       "<polygon fill=\"black\" stroke=\"black\" points=\"119.78,-189.34 113.07,-181.14 113.2,-191.74 119.78,-189.34\"/>\n",
       "</g>\n",
       "<!-- 12 -->\n",
       "<g id=\"node6\" class=\"node\">\n",
       "<title>12</title>\n",
       "<ellipse fill=\"none\" stroke=\"black\" cx=\"106.46\" cy=\"-374.65\" rx=\"27\" ry=\"18\"/>\n",
       "<text text-anchor=\"middle\" x=\"106.46\" y=\"-369.6\" font-family=\"Times,serif\" font-size=\"14.00\">v12</text>\n",
       "<text text-anchor=\"middle\" x=\"58.09\" y=\"-395.85\" font-family=\"Times,serif\" font-size=\"14.00\">squeeze</text>\n",
       "</g>\n",
       "<!-- 12&#45;&gt;13 -->\n",
       "<g id=\"edge5\" class=\"edge\">\n",
       "<title>12&#45;&gt;13</title>\n",
       "<path fill=\"none\" stroke=\"black\" d=\"M112.57,-356.89C118.47,-340.69 127.51,-315.87 134.46,-296.79\"/>\n",
       "<polygon fill=\"black\" stroke=\"black\" points=\"137.72,-298.06 137.85,-287.47 131.14,-295.67 137.72,-298.06\"/>\n",
       "</g>\n",
       "<!-- 11 -->\n",
       "<g id=\"node7\" class=\"node\">\n",
       "<title>11</title>\n",
       "<ellipse fill=\"none\" stroke=\"black\" cx=\"106.46\" cy=\"-446.65\" rx=\"27\" ry=\"18\"/>\n",
       "<text text-anchor=\"middle\" x=\"106.46\" y=\"-441.6\" font-family=\"Times,serif\" font-size=\"14.00\">v11</text>\n",
       "<text text-anchor=\"middle\" x=\"58.09\" y=\"-467.85\" font-family=\"Times,serif\" font-size=\"14.00\">matmul</text>\n",
       "</g>\n",
       "<!-- 11&#45;&gt;12 -->\n",
       "<g id=\"edge6\" class=\"edge\">\n",
       "<title>11&#45;&gt;12</title>\n",
       "<path fill=\"none\" stroke=\"black\" d=\"M106.46,-428.35C106.46,-421.06 106.46,-412.38 106.46,-404.19\"/>\n",
       "<polygon fill=\"black\" stroke=\"black\" points=\"109.96,-404.27 106.46,-394.27 102.96,-404.27 109.96,-404.27\"/>\n",
       "</g>\n",
       "<!-- 2 -->\n",
       "<g id=\"node8\" class=\"node\">\n",
       "<title>2</title>\n",
       "<ellipse fill=\"none\" stroke=\"black\" cx=\"67.46\" cy=\"-518.65\" rx=\"34.46\" ry=\"18\"/>\n",
       "<text text-anchor=\"middle\" x=\"67.46\" y=\"-513.6\" font-family=\"Times,serif\" font-size=\"14.00\">fc2.W</text>\n",
       "</g>\n",
       "<!-- 2&#45;&gt;11 -->\n",
       "<g id=\"edge7\" class=\"edge\">\n",
       "<title>2&#45;&gt;11</title>\n",
       "<path fill=\"none\" stroke=\"black\" d=\"M76.7,-501.06C81.29,-492.84 86.93,-482.72 92.06,-473.5\"/>\n",
       "<polygon fill=\"black\" stroke=\"black\" points=\"95.01,-475.4 96.82,-464.96 88.89,-471.99 95.01,-475.4\"/>\n",
       "</g>\n",
       "<!-- 10 -->\n",
       "<g id=\"node9\" class=\"node\">\n",
       "<title>10</title>\n",
       "<ellipse fill=\"none\" stroke=\"black\" cx=\"146.46\" cy=\"-518.65\" rx=\"27\" ry=\"18\"/>\n",
       "<text text-anchor=\"middle\" x=\"146.46\" y=\"-513.6\" font-family=\"Times,serif\" font-size=\"14.00\">v10</text>\n",
       "<text text-anchor=\"middle\" x=\"83.09\" y=\"-539.85\" font-family=\"Times,serif\" font-size=\"14.00\">expand_dims</text>\n",
       "</g>\n",
       "<!-- 10&#45;&gt;11 -->\n",
       "<g id=\"edge8\" class=\"edge\">\n",
       "<title>10&#45;&gt;11</title>\n",
       "<path fill=\"none\" stroke=\"black\" d=\"M137.18,-501.42C132.49,-493.2 126.67,-483.02 121.37,-473.74\"/>\n",
       "<polygon fill=\"black\" stroke=\"black\" points=\"124.44,-472.06 116.44,-465.11 118.36,-475.53 124.44,-472.06\"/>\n",
       "</g>\n",
       "<!-- 9 -->\n",
       "<g id=\"node10\" class=\"node\">\n",
       "<title>9</title>\n",
       "<ellipse fill=\"none\" stroke=\"black\" cx=\"146.46\" cy=\"-590.65\" rx=\"27\" ry=\"18\"/>\n",
       "<text text-anchor=\"middle\" x=\"146.46\" y=\"-585.6\" font-family=\"Times,serif\" font-size=\"14.00\">v9</text>\n",
       "<text text-anchor=\"middle\" x=\"90.96\" y=\"-611.85\" font-family=\"Times,serif\" font-size=\"14.00\">maximum</text>\n",
       "</g>\n",
       "<!-- 9&#45;&gt;10 -->\n",
       "<g id=\"edge9\" class=\"edge\">\n",
       "<title>9&#45;&gt;10</title>\n",
       "<path fill=\"none\" stroke=\"black\" d=\"M146.46,-572.35C146.46,-565.06 146.46,-556.38 146.46,-548.19\"/>\n",
       "<polygon fill=\"black\" stroke=\"black\" points=\"149.96,-548.27 146.46,-538.27 142.96,-548.27 149.96,-548.27\"/>\n",
       "</g>\n",
       "<!-- 8 -->\n",
       "<g id=\"node11\" class=\"node\">\n",
       "<title>8</title>\n",
       "<ellipse fill=\"none\" stroke=\"black\" cx=\"110.46\" cy=\"-662.65\" rx=\"27\" ry=\"18\"/>\n",
       "<text text-anchor=\"middle\" x=\"110.46\" y=\"-657.6\" font-family=\"Times,serif\" font-size=\"14.00\">v8</text>\n",
       "<text text-anchor=\"middle\" x=\"73.71\" y=\"-683.85\" font-family=\"Times,serif\" font-size=\"14.00\">add</text>\n",
       "</g>\n",
       "<!-- 8&#45;&gt;9 -->\n",
       "<g id=\"edge10\" class=\"edge\">\n",
       "<title>8&#45;&gt;9</title>\n",
       "<path fill=\"none\" stroke=\"black\" d=\"M118.81,-645.42C123.04,-637.2 128.27,-627.02 133.04,-617.74\"/>\n",
       "<polygon fill=\"black\" stroke=\"black\" points=\"136,-619.64 137.47,-609.15 129.78,-616.44 136,-619.64\"/>\n",
       "</g>\n",
       "<!-- 7 -->\n",
       "<g id=\"node12\" class=\"node\">\n",
       "<title>7</title>\n",
       "<ellipse fill=\"none\" stroke=\"black\" cx=\"73.46\" cy=\"-734.65\" rx=\"27\" ry=\"18\"/>\n",
       "<text text-anchor=\"middle\" x=\"73.46\" y=\"-729.6\" font-family=\"Times,serif\" font-size=\"14.00\">v7</text>\n",
       "<text text-anchor=\"middle\" x=\"25.09\" y=\"-755.85\" font-family=\"Times,serif\" font-size=\"14.00\">squeeze</text>\n",
       "</g>\n",
       "<!-- 7&#45;&gt;8 -->\n",
       "<g id=\"edge11\" class=\"edge\">\n",
       "<title>7&#45;&gt;8</title>\n",
       "<path fill=\"none\" stroke=\"black\" d=\"M82.04,-717.42C86.39,-709.2 91.76,-699.02 96.67,-689.74\"/>\n",
       "<polygon fill=\"black\" stroke=\"black\" points=\"99.64,-691.61 101.22,-681.14 93.45,-688.34 99.64,-691.61\"/>\n",
       "</g>\n",
       "<!-- 6 -->\n",
       "<g id=\"node13\" class=\"node\">\n",
       "<title>6</title>\n",
       "<ellipse fill=\"none\" stroke=\"black\" cx=\"73.46\" cy=\"-806.65\" rx=\"27\" ry=\"18\"/>\n",
       "<text text-anchor=\"middle\" x=\"73.46\" y=\"-801.6\" font-family=\"Times,serif\" font-size=\"14.00\">v6</text>\n",
       "<text text-anchor=\"middle\" x=\"25.09\" y=\"-827.85\" font-family=\"Times,serif\" font-size=\"14.00\">matmul</text>\n",
       "</g>\n",
       "<!-- 6&#45;&gt;7 -->\n",
       "<g id=\"edge12\" class=\"edge\">\n",
       "<title>6&#45;&gt;7</title>\n",
       "<path fill=\"none\" stroke=\"black\" d=\"M73.46,-788.35C73.46,-781.06 73.46,-772.38 73.46,-764.19\"/>\n",
       "<polygon fill=\"black\" stroke=\"black\" points=\"76.96,-764.27 73.46,-754.27 69.96,-764.27 76.96,-764.27\"/>\n",
       "</g>\n",
       "<!-- 0 -->\n",
       "<g id=\"node14\" class=\"node\">\n",
       "<title>0</title>\n",
       "<ellipse fill=\"none\" stroke=\"black\" cx=\"34.46\" cy=\"-878.65\" rx=\"34.46\" ry=\"18\"/>\n",
       "<text text-anchor=\"middle\" x=\"34.46\" y=\"-873.6\" font-family=\"Times,serif\" font-size=\"14.00\">fc1.W</text>\n",
       "</g>\n",
       "<!-- 0&#45;&gt;6 -->\n",
       "<g id=\"edge13\" class=\"edge\">\n",
       "<title>0&#45;&gt;6</title>\n",
       "<path fill=\"none\" stroke=\"black\" d=\"M43.7,-861.06C48.29,-852.84 53.93,-842.72 59.06,-833.5\"/>\n",
       "<polygon fill=\"black\" stroke=\"black\" points=\"62.01,-835.4 63.82,-824.96 55.89,-831.99 62.01,-835.4\"/>\n",
       "</g>\n",
       "<!-- 5 -->\n",
       "<g id=\"node15\" class=\"node\">\n",
       "<title>5</title>\n",
       "<ellipse fill=\"none\" stroke=\"black\" cx=\"113.46\" cy=\"-878.65\" rx=\"27\" ry=\"18\"/>\n",
       "<text text-anchor=\"middle\" x=\"113.46\" y=\"-873.6\" font-family=\"Times,serif\" font-size=\"14.00\">v5</text>\n",
       "<text text-anchor=\"middle\" x=\"50.09\" y=\"-899.85\" font-family=\"Times,serif\" font-size=\"14.00\">expand_dims</text>\n",
       "</g>\n",
       "<!-- 5&#45;&gt;6 -->\n",
       "<g id=\"edge14\" class=\"edge\">\n",
       "<title>5&#45;&gt;6</title>\n",
       "<path fill=\"none\" stroke=\"black\" d=\"M104.18,-861.42C99.49,-853.2 93.67,-843.02 88.37,-833.74\"/>\n",
       "<polygon fill=\"black\" stroke=\"black\" points=\"91.44,-832.06 83.44,-825.11 85.36,-835.53 91.44,-832.06\"/>\n",
       "</g>\n",
       "<!-- 4 -->\n",
       "<g id=\"node16\" class=\"node\">\n",
       "<title>4</title>\n",
       "<ellipse fill=\"none\" stroke=\"black\" cx=\"113.46\" cy=\"-950.65\" rx=\"27\" ry=\"18\"/>\n",
       "<text text-anchor=\"middle\" x=\"113.46\" y=\"-945.6\" font-family=\"Times,serif\" font-size=\"14.00\">x</text>\n",
       "</g>\n",
       "<!-- 4&#45;&gt;5 -->\n",
       "<g id=\"edge15\" class=\"edge\">\n",
       "<title>4&#45;&gt;5</title>\n",
       "<path fill=\"none\" stroke=\"black\" d=\"M113.46,-932.35C113.46,-925.06 113.46,-916.38 113.46,-908.19\"/>\n",
       "<polygon fill=\"black\" stroke=\"black\" points=\"116.96,-908.27 113.46,-898.27 109.96,-908.27 116.96,-908.27\"/>\n",
       "</g>\n",
       "<!-- 1 -->\n",
       "<g id=\"node17\" class=\"node\">\n",
       "<title>1</title>\n",
       "<ellipse fill=\"none\" stroke=\"black\" cx=\"148.46\" cy=\"-734.65\" rx=\"29.86\" ry=\"18\"/>\n",
       "<text text-anchor=\"middle\" x=\"148.46\" y=\"-729.6\" font-family=\"Times,serif\" font-size=\"14.00\">fc1.b</text>\n",
       "</g>\n",
       "<!-- 1&#45;&gt;8 -->\n",
       "<g id=\"edge16\" class=\"edge\">\n",
       "<title>1&#45;&gt;8</title>\n",
       "<path fill=\"none\" stroke=\"black\" d=\"M139.46,-717.06C135.1,-709.04 129.77,-699.22 124.87,-690.19\"/>\n",
       "<polygon fill=\"black\" stroke=\"black\" points=\"127.97,-688.57 120.12,-681.45 121.82,-691.91 127.97,-688.57\"/>\n",
       "</g>\n",
       "<!-- 18 -->\n",
       "<g id=\"node18\" class=\"node\">\n",
       "<title>18</title>\n",
       "<ellipse fill=\"none\" stroke=\"black\" cx=\"182.46\" cy=\"-662.65\" rx=\"27\" ry=\"18\"/>\n",
       "<text text-anchor=\"middle\" x=\"182.46\" y=\"-657.6\" font-family=\"Times,serif\" font-size=\"14.00\">0</text>\n",
       "</g>\n",
       "<!-- 18&#45;&gt;9 -->\n",
       "<g id=\"edge17\" class=\"edge\">\n",
       "<title>18&#45;&gt;9</title>\n",
       "<path fill=\"none\" stroke=\"black\" d=\"M174.11,-645.42C169.89,-637.2 164.65,-627.02 159.88,-617.74\"/>\n",
       "<polygon fill=\"black\" stroke=\"black\" points=\"163.14,-616.44 155.46,-609.15 156.92,-619.64 163.14,-616.44\"/>\n",
       "</g>\n",
       "<!-- 3 -->\n",
       "<g id=\"node19\" class=\"node\">\n",
       "<title>3</title>\n",
       "<ellipse fill=\"none\" stroke=\"black\" cx=\"181.46\" cy=\"-374.65\" rx=\"29.86\" ry=\"18\"/>\n",
       "<text text-anchor=\"middle\" x=\"181.46\" y=\"-369.6\" font-family=\"Times,serif\" font-size=\"14.00\">fc2.b</text>\n",
       "</g>\n",
       "<!-- 3&#45;&gt;13 -->\n",
       "<g id=\"edge18\" class=\"edge\">\n",
       "<title>3&#45;&gt;13</title>\n",
       "<path fill=\"none\" stroke=\"black\" d=\"M175.52,-356.89C169.77,-340.69 160.97,-315.87 154.2,-296.79\"/>\n",
       "<polygon fill=\"black\" stroke=\"black\" points=\"157.54,-295.73 150.9,-287.47 150.94,-298.07 157.54,-295.73\"/>\n",
       "</g>\n",
       "</g>\n",
       "</svg>\n"
      ],
      "text/plain": [
       "<graphviz.graphs.Digraph at 0x119f8a4e0>"
      ]
     },
     "execution_count": 7,
     "metadata": {},
     "output_type": "execute_result"
    }
   ],
   "source": [
    "xor_y_pred = xor_model(var(xor_X, 'x'))\n",
    "xor_loss = mse_loss(xor_y_pred, xor_y)\n",
    "xor_loss.graph()"
   ]
  },
  {
   "cell_type": "code",
   "execution_count": 8,
   "id": "f7a0d15d-3c7d-4140-bf16-33f2e177faa6",
   "metadata": {},
   "outputs": [
    {
     "data": {
      "application/vnd.jupyter.widget-view+json": {
       "model_id": "fb0d69a4cfe44a2aad37602f9b413b9a",
       "version_major": 2,
       "version_minor": 0
      },
      "text/plain": [
       "Epoch:   0%|          | 0/10000 [00:00<?, ?it/s]"
      ]
     },
     "metadata": {},
     "output_type": "display_data"
    },
    {
     "name": "stdout",
     "output_type": "stream",
     "text": [
      "Total epochs = 1261 | elapsed = 0.25s | train loss = 3.668129230050844e-05 | train acc = 1.0\n",
      "array([[0.0085538 ],\n",
      "       [0.99419049],\n",
      "       [0.99486754],\n",
      "       [0.00459919]])\n"
     ]
    },
    {
     "data": {
      "image/png": "[encoded data removed]",
      "text/plain": [
       "<Figure size 640x480 with 1 Axes>"
      ]
     },
     "metadata": {},
     "output_type": "display_data"
    }
   ],
   "source": [
    "train(xor_model, xor_X, xor_y, mse_loss, xor_acc, xor_optim,\n",
    "      max_epochs=10000,\n",
    "      log_epochs=100,\n",
    "      early_stopping_patience=10)\n",
    "with no_grad():\n",
    "    print(np.array_repr(xor_model(var(xor_X, name='x')), suppress_small=True))"
   ]
  },
  {
   "cell_type": "markdown",
   "id": "34a3fd5b-88cc-4657-b9a1-61d9db485813",
   "metadata": {},
   "source": [
    "## Demo 2: MNIST"
   ]
  },
  {
   "cell_type": "code",
   "execution_count": 9,
   "id": "9f087eec-0ce4-4178-b4fd-dd0b03e593a1",
   "metadata": {},
   "outputs": [],
   "source": [
    "from sklearn import datasets\n",
    "from sklearn.model_selection import train_test_split\n",
    "\n",
    "mnist = datasets.fetch_openml(name='mnist_784')"
   ]
  },
  {
   "cell_type": "code",
   "execution_count": 10,
   "id": "c2f73a43-ab94-4728-ac35-e9bcab68eaa4",
   "metadata": {},
   "outputs": [
    {
     "data": {
      "text/plain": [
       "((60000, 784), (10000, 784), (60000,), (10000,))"
      ]
     },
     "execution_count": 10,
     "metadata": {},
     "output_type": "execute_result"
    }
   ],
   "source": [
    "mnist_X = mnist.data.to_numpy().astype(np.float64)\n",
    "mnist_X = mnist_X / 255.\n",
    "mnist_y = mnist.target.to_numpy().astype(np.int64)\n",
    "\n",
    "mnist_X_train, mnist_X_test, mnist_y_train, mnist_y_test = train_test_split(\n",
    "    mnist_X, mnist_y, train_size=60000, test_size=10000, shuffle=False)\n",
    "mnist_X_train.shape, mnist_X_test.shape, mnist_y_train.shape, mnist_y_test.shape"
   ]
  },
  {
   "cell_type": "code",
   "execution_count": 11,
   "id": "30fae467-a082-44da-8c13-e2c697fbc992",
   "metadata": {},
   "outputs": [
    {
     "data": {
      "image/png": "[encoded data removed]",
      "text/plain": [
       "<Figure size 640x480 with 1 Axes>"
      ]
     },
     "metadata": {},
     "output_type": "display_data"
    },
    {
     "name": "stdout",
     "output_type": "stream",
     "text": [
      "5\n"
     ]
    }
   ],
   "source": [
    "plt.imshow(mnist_X_train[0].reshape(28, 28))\n",
    "plt.show()\n",
    "print(mnist_y_train[0])"
   ]
  },
  {
   "cell_type": "code",
   "execution_count": 12,
   "id": "00f7f0de-d7d4-43d2-a5ca-9a4b796e9a0b",
   "metadata": {},
   "outputs": [
    {
     "data": {
      "application/vnd.jupyter.widget-view+json": {
       "model_id": "d14a01e2ddfe4b229d88d46f89593da5",
       "version_major": 2,
       "version_minor": 0
      },
      "text/plain": [
       "Epoch:   0%|          | 0/20 [00:00<?, ?it/s]"
      ]
     },
     "metadata": {},
     "output_type": "display_data"
    },
    {
     "data": {
      "application/vnd.jupyter.widget-view+json": {
       "model_id": "",
       "version_major": 2,
       "version_minor": 0
      },
      "text/plain": [
       "Iter:   0%|          | 0/1200 [00:00<?, ?it/s]"
      ]
     },
     "metadata": {},
     "output_type": "display_data"
    },
    {
     "data": {
      "application/vnd.jupyter.widget-view+json": {
       "model_id": "",
       "version_major": 2,
       "version_minor": 0
      },
      "text/plain": [
       "Iter:   0%|          | 0/1200 [00:00<?, ?it/s]"
      ]
     },
     "metadata": {},
     "output_type": "display_data"
    },
    {
     "data": {
      "application/vnd.jupyter.widget-view+json": {
       "model_id": "",
       "version_major": 2,
       "version_minor": 0
      },
      "text/plain": [
       "Iter:   0%|          | 0/1200 [00:00<?, ?it/s]"
      ]
     },
     "metadata": {},
     "output_type": "display_data"
    },
    {
     "data": {
      "application/vnd.jupyter.widget-view+json": {
       "model_id": "",
       "version_major": 2,
       "version_minor": 0
      },
      "text/plain": [
       "Iter:   0%|          | 0/1200 [00:00<?, ?it/s]"
      ]
     },
     "metadata": {},
     "output_type": "display_data"
    },
    {
     "data": {
      "application/vnd.jupyter.widget-view+json": {
       "model_id": "",
       "version_major": 2,
       "version_minor": 0
      },
      "text/plain": [
       "Iter:   0%|          | 0/1200 [00:00<?, ?it/s]"
      ]
     },
     "metadata": {},
     "output_type": "display_data"
    },
    {
     "data": {
      "application/vnd.jupyter.widget-view+json": {
       "model_id": "",
       "version_major": 2,
       "version_minor": 0
      },
      "text/plain": [
       "Iter:   0%|          | 0/1200 [00:00<?, ?it/s]"
      ]
     },
     "metadata": {},
     "output_type": "display_data"
    },
    {
     "data": {
      "application/vnd.jupyter.widget-view+json": {
       "model_id": "",
       "version_major": 2,
       "version_minor": 0
      },
      "text/plain": [
       "Iter:   0%|          | 0/1200 [00:00<?, ?it/s]"
      ]
     },
     "metadata": {},
     "output_type": "display_data"
    },
    {
     "data": {
      "application/vnd.jupyter.widget-view+json": {
       "model_id": "",
       "version_major": 2,
       "version_minor": 0
      },
      "text/plain": [
       "Iter:   0%|          | 0/1200 [00:00<?, ?it/s]"
      ]
     },
     "metadata": {},
     "output_type": "display_data"
    },
    {
     "data": {
      "application/vnd.jupyter.widget-view+json": {
       "model_id": "",
       "version_major": 2,
       "version_minor": 0
      },
      "text/plain": [
       "Iter:   0%|          | 0/1200 [00:00<?, ?it/s]"
      ]
     },
     "metadata": {},
     "output_type": "display_data"
    },
    {
     "data": {
      "application/vnd.jupyter.widget-view+json": {
       "model_id": "",
       "version_major": 2,
       "version_minor": 0
      },
      "text/plain": [
       "Iter:   0%|          | 0/1200 [00:00<?, ?it/s]"
      ]
     },
     "metadata": {},
     "output_type": "display_data"
    },
    {
     "data": {
      "application/vnd.jupyter.widget-view+json": {
       "model_id": "",
       "version_major": 2,
       "version_minor": 0
      },
      "text/plain": [
       "Iter:   0%|          | 0/1200 [00:00<?, ?it/s]"
      ]
     },
     "metadata": {},
     "output_type": "display_data"
    },
    {
     "data": {
      "application/vnd.jupyter.widget-view+json": {
       "model_id": "",
       "version_major": 2,
       "version_minor": 0
      },
      "text/plain": [
       "Iter:   0%|          | 0/1200 [00:00<?, ?it/s]"
      ]
     },
     "metadata": {},
     "output_type": "display_data"
    },
    {
     "data": {
      "application/vnd.jupyter.widget-view+json": {
       "model_id": "",
       "version_major": 2,
       "version_minor": 0
      },
      "text/plain": [
       "Iter:   0%|          | 0/1200 [00:00<?, ?it/s]"
      ]
     },
     "metadata": {},
     "output_type": "display_data"
    },
    {
     "data": {
      "application/vnd.jupyter.widget-view+json": {
       "model_id": "",
       "version_major": 2,
       "version_minor": 0
      },
      "text/plain": [
       "Iter:   0%|          | 0/1200 [00:00<?, ?it/s]"
      ]
     },
     "metadata": {},
     "output_type": "display_data"
    },
    {
     "data": {
      "application/vnd.jupyter.widget-view+json": {
       "model_id": "",
       "version_major": 2,
       "version_minor": 0
      },
      "text/plain": [
       "Iter:   0%|          | 0/1200 [00:00<?, ?it/s]"
      ]
     },
     "metadata": {},
     "output_type": "display_data"
    },
    {
     "data": {
      "application/vnd.jupyter.widget-view+json": {
       "model_id": "",
       "version_major": 2,
       "version_minor": 0
      },
      "text/plain": [
       "Iter:   0%|          | 0/1200 [00:00<?, ?it/s]"
      ]
     },
     "metadata": {},
     "output_type": "display_data"
    },
    {
     "data": {
      "application/vnd.jupyter.widget-view+json": {
       "model_id": "",
       "version_major": 2,
       "version_minor": 0
      },
      "text/plain": [
       "Iter:   0%|          | 0/1200 [00:00<?, ?it/s]"
      ]
     },
     "metadata": {},
     "output_type": "display_data"
    },
    {
     "data": {
      "application/vnd.jupyter.widget-view+json": {
       "model_id": "",
       "version_major": 2,
       "version_minor": 0
      },
      "text/plain": [
       "Iter:   0%|          | 0/1200 [00:00<?, ?it/s]"
      ]
     },
     "metadata": {},
     "output_type": "display_data"
    },
    {
     "data": {
      "application/vnd.jupyter.widget-view+json": {
       "model_id": "",
       "version_major": 2,
       "version_minor": 0
      },
      "text/plain": [
       "Iter:   0%|          | 0/1200 [00:00<?, ?it/s]"
      ]
     },
     "metadata": {},
     "output_type": "display_data"
    },
    {
     "data": {
      "application/vnd.jupyter.widget-view+json": {
       "model_id": "",
       "version_major": 2,
       "version_minor": 0
      },
      "text/plain": [
       "Iter:   0%|          | 0/1200 [00:00<?, ?it/s]"
      ]
     },
     "metadata": {},
     "output_type": "display_data"
    },
    {
     "name": "stdout",
     "output_type": "stream",
     "text": [
      "Total epochs = 20 | elapsed = 1175.94s | train loss = 0.08940757046465565 | train acc = 0.9784500000000104\n"
     ]
    },
    {
     "data": {
      "text/plain": [
       "[Text(0.5, 0, 'Epochs'), Text(0, 0.5, 'Loss')]"
      ]
     },
     "execution_count": 12,
     "metadata": {},
     "output_type": "execute_result"
    },
    {
     "data": {
      "image/png": "[encoded data removed]",
      "text/plain": [
       "<Figure size 640x480 with 1 Axes>"
      ]
     },
     "metadata": {},
     "output_type": "display_data"
    }
   ],
   "source": [
    "class MNISTModel(Module):\n",
    "    def __init__(self):\n",
    "        self.fc1 = Linear(784, 512, name='fc1')\n",
    "        self.fc2 = Linear(512, 10, name='fc2')\n",
    "\n",
    "    def __call__(self, x):\n",
    "        x = self.fc1(x)\n",
    "        x = relu(x)\n",
    "        x = self.fc2(x)\n",
    "        return log_softmax(x)\n",
    "        \n",
    "np.random.seed(0)\n",
    "\n",
    "mnist_model = MNISTModel()\n",
    "mnist_optim = AdamW(mnist_model.parameters(), lr=0.01)\n",
    "mnist_acc = lambda y_pred, y: np.mean(np.argmax(y_pred.view(np.ndarray), axis=1) == y.view(np.ndarray))\n",
    "train(mnist_model, mnist_X_train, mnist_y_train, nll_loss, mnist_acc, mnist_optim,\n",
    "      X_val=mnist_X_test,\n",
    "      y_val=mnist_y_test,\n",
    "      batch_size=50,\n",
    "      max_epochs=20,\n",
    "      log_iters=10,\n",
    "      early_stopping_delta=1e-3,\n",
    "      early_stopping_patience=3)"
   ]
  },
  {
   "cell_type": "markdown",
   "id": "4dc23c6a-882a-41bc-b443-81f676d89f00",
   "metadata": {},
   "source": [
    "### Test MNIST model"
   ]
  },
  {
   "cell_type": "code",
   "execution_count": 13,
   "id": "a0c6ae1a-9250-494b-aeca-041d6cb58bbc",
   "metadata": {},
   "outputs": [
    {
     "name": "stdout",
     "output_type": "stream",
     "text": [
      "0.9598\n"
     ]
    }
   ],
   "source": [
    "with no_grad():\n",
    "    mnist_y_test_pred = mnist_model(mnist_X_test)\n",
    "    mnist_acc = mnist_acc(mnist_y_test_pred, mnist_y_test)\n",
    "print(mnist_acc)"
   ]
  }
 ],
 "metadata": {
  "kernelspec": {
   "display_name": "Python 3 (ipykernel)",
   "language": "python",
   "name": "python3"
  },
  "language_info": {
   "codemirror_mode": {
    "name": "ipython",
    "version": 3
   },
   "file_extension": ".py",
   "mimetype": "text/x-python",
   "name": "python",
   "nbconvert_exporter": "python",
   "pygments_lexer": "ipython3",
   "version": "3.12.5"
  }
 },
 "nbformat": 4,
 "nbformat_minor": 5
}
